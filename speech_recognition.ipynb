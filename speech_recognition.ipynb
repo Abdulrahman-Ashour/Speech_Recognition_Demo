{
 "cells": [
  {
   "cell_type": "code",
   "execution_count": 57,
   "id": "3507fdac",
   "metadata": {},
   "outputs": [],
   "source": [
    "import numpy"
   ]
  },
  {
   "cell_type": "code",
   "execution_count": 58,
   "id": "27d7aefb",
   "metadata": {},
   "outputs": [],
   "source": [
    "import speech_recognition as sr\n",
    "import pyttsx3\n",
    "import webbrowser as web"
   ]
  },
  {
   "cell_type": "code",
   "execution_count": 59,
   "id": "62e3f488",
   "metadata": {},
   "outputs": [],
   "source": [
    "rec_obj = sr.Recognizer()"
   ]
  },
  {
   "cell_type": "markdown",
   "id": "373595ae",
   "metadata": {},
   "source": [
    "# Text to Speech"
   ]
  },
  {
   "cell_type": "code",
   "execution_count": 60,
   "id": "0aee52c1",
   "metadata": {},
   "outputs": [],
   "source": [
    "def txt_to_speech(sentence):\n",
    "    recog = pyttsx3.init()\n",
    "    recog.say(sentence)\n",
    "    recog.runAndWait()    "
   ]
  },
  {
   "cell_type": "code",
   "execution_count": 61,
   "id": "a5d69c4b",
   "metadata": {},
   "outputs": [],
   "source": [
    "txt_to_speech(\"Hello from Abdulrahman Ashour\")"
   ]
  },
  {
   "cell_type": "markdown",
   "id": "6cb7e571",
   "metadata": {},
   "source": [
    "# Speech to Text"
   ]
  },
  {
   "cell_type": "code",
   "execution_count": 73,
   "id": "045268af",
   "metadata": {},
   "outputs": [
    {
     "name": "stdout",
     "output_type": "stream",
     "text": [
      "You can speek now.....\n",
      "result2:\n",
      "{   'alternative': [   {'confidence': 0.95212841, 'transcript': 'hi there'},\n",
      "                       {'transcript': 'hi'}],\n",
      "    'final': True}\n"
     ]
    }
   ],
   "source": [
    "with sr.Microphone() as source2:\n",
    "    rec_obj.adjust_for_ambient_noise(source2, duration=2)\n",
    "    print(\"You can speek now.....\")\n",
    "    audio2 = rec_obj.listen(source2)\n",
    "    recognized_txt = rec_obj.recognize_google(audio2)\n",
    "    recognized_txt = recognized_txt.lower()\n",
    "    \n",
    "    txt_to_speech(\"Did you Say \")\n",
    "    txt_to_speech(recognized_txt)"
   ]
  },
  {
   "cell_type": "code",
   "execution_count": 43,
   "id": "76056271",
   "metadata": {},
   "outputs": [],
   "source": [
    "#pip install pipwin"
   ]
  },
  {
   "cell_type": "code",
   "execution_count": 24,
   "id": "ffa96967",
   "metadata": {},
   "outputs": [],
   "source": [
    "#pip install pyaudio"
   ]
  },
  {
   "cell_type": "markdown",
   "id": "ee084062",
   "metadata": {},
   "source": [
    "# Open Web Browser using Voice"
   ]
  },
  {
   "cell_type": "code",
   "execution_count": 74,
   "id": "67dc7028",
   "metadata": {},
   "outputs": [
    {
     "name": "stdout",
     "output_type": "stream",
     "text": [
      "You can speek now.....\n",
      "result2:\n",
      "{   'alternative': [{'confidence': 0.95212841, 'transcript': 'google.com'}],\n",
      "    'final': True}\n"
     ]
    }
   ],
   "source": [
    "if __name__ == \"__main__\":\n",
    "    path = \"C:/Program Files/Google/Chrome/Application/chrome.exe %s\"\n",
    "    with sr.Microphone() as source2:\n",
    "        rec_obj.adjust_for_ambient_noise(source2, duration=2)\n",
    "        print(\"You can speek now.....\")\n",
    "        audio2 = rec_obj.listen(source2)\n",
    "        \n",
    "        try:\n",
    "            destination = rec_obj.recognize_google(audio2)\n",
    "            web.get(path).open(destination)\n",
    "        except Exception as e:\n",
    "            print(\"Can not recognize....\")\n",
    "    \n",
    "    "
   ]
  },
  {
   "cell_type": "code",
   "execution_count": null,
   "id": "a997c49e",
   "metadata": {},
   "outputs": [],
   "source": []
  }
 ],
 "metadata": {
  "kernelspec": {
   "display_name": "Python 3",
   "language": "python",
   "name": "python3"
  },
  "language_info": {
   "codemirror_mode": {
    "name": "ipython",
    "version": 3
   },
   "file_extension": ".py",
   "mimetype": "text/x-python",
   "name": "python",
   "nbconvert_exporter": "python",
   "pygments_lexer": "ipython3",
   "version": "3.7.3"
  }
 },
 "nbformat": 4,
 "nbformat_minor": 5
}
